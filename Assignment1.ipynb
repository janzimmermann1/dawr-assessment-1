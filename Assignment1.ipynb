{
 "cells": [
  {
   "cell_type": "markdown",
   "metadata": {},
   "source": [
    "# Assignment 1 - Jan Zimmermann\n",
    "Folgendes Jupiter Notebook kombiniert die Daten unterschiedlichen Datenquellen, um die beste Gemeinde des Kantons Schaffhausen zu bestimmen. Dabei werden drei unterschiedliche Kategorien untersucht:\n",
    "1. Alterstatistik: Welche Gemeinde hat Prozentual die meisten Personen, welche Wein konsumieren dürfen und zudem sich weiterbilden können.\n",
    "2. Weinstatistik: \n",
    "3. Bildungslast Statistik: "
   ]
  },
  {
   "cell_type": "code",
   "execution_count": 166,
   "metadata": {},
   "outputs": [],
   "source": [
    "import numpy as np\n",
    "import pandas as pd\n",
    "import requests\n",
    "from io import StringIO\n",
    "from bs4 import BeautifulSoup\n",
    "import tabula\n",
    "import matplotlib.pyplot as plt"
   ]
  },
  {
   "cell_type": "markdown",
   "metadata": {},
   "source": [
    "### Altersstatistik pro Gemeinde\n",
    "Die Alterstatistik bildet die übergeordnete Datensammlung. Diese Datenbasis gilt als `source of truth`, sofern es Abweichungen gibt der Gemeindenamen bei anderen Statistiken gibt, behält diese Statistik stets die Oberhand.\n",
    "\n",
    "*Quellen*: \n",
    "- http://de.wikipedia.org/wiki/Gemeinden_des_Kantons_Schaffhausen\n",
    "Laden der Gemeindenamen als `source of truth`\n",
    "- https://image.shkb.ch/dynamic/noop/387c5e5dc5b11b214cd0f1397cb34ceba3aa91eb/kanton-schaffhausen-in-zahlen-1.pdf, Seite 12 - 13, Jahr 23/24: Laden der Anzahl Personen pro Altersgruppe und das Total der Einwohner pro Gemeinde."
   ]
  },
  {
   "cell_type": "code",
   "execution_count": 167,
   "metadata": {},
   "outputs": [],
   "source": [
    "url = 'http://de.wikipedia.org/wiki/Gemeinden_des_Kantons_Schaffhausen'\n",
    "# Lade den HTML-Code der Wikipedia-Seite\n",
    "response = requests.get(url)\n",
    "html_content = response.content\n",
    "\n",
    "# Verwende BeautifulSoup, um die Tabelle zu extrahieren\n",
    "soup = BeautifulSoup(html_content, 'html.parser')\n",
    "table = soup.find('table')  # Hier musst du die richtige Tabelle identifizieren, falls es mehrere gibt\n",
    "\n",
    "# Verwende Pandas, um die Tabelle in ein DataFrame zu konvertieren\n",
    "html_string = str(table)\n",
    "df_parts = pd.read_html(StringIO(html_string))[0]  # Wrap the HTML string with StringIO\n",
    "df_parts = df_parts.iloc[:, [1,3,5]]\n",
    "df_parts = df_parts.drop(len(df_parts)-1).reset_index(drop=True)\n",
    "df_parts.columns = ['Gemeinde', 'Fläche (km²)', 'Bezirk']\n",
    "df_parts['Gemeinde'] = df_parts['Gemeinde'].str.replace(\" (SH)\", '')"
   ]
  },
  {
   "cell_type": "code",
   "execution_count": 168,
   "metadata": {},
   "outputs": [
    {
     "name": "stderr",
     "output_type": "stream",
     "text": [
      "/Library/Frameworks/Python.framework/Versions/3.11/lib/python3.11/site-packages/tabula/io.py:1045: FutureWarning: errors='ignore' is deprecated and will raise in a future version. Use to_numeric without passing `errors` and catch exceptions explicitly instead\n",
      "  df[c] = pd.to_numeric(df[c], errors=\"ignore\")\n",
      "/Library/Frameworks/Python.framework/Versions/3.11/lib/python3.11/site-packages/tabula/io.py:1045: FutureWarning: errors='ignore' is deprecated and will raise in a future version. Use to_numeric without passing `errors` and catch exceptions explicitly instead\n",
      "  df[c] = pd.to_numeric(df[c], errors=\"ignore\")\n"
     ]
    }
   ],
   "source": [
    "# Pfadeingabe zum PDF\n",
    "pdf_path = \"data/kanton-schaffhausen-in-zahlen.pdf\"\n",
    "\n",
    "# Lese das PDF in ein Pandas DataFrame ein\n",
    "\n",
    "df_bev_raw = tabula.read_pdf(pdf_path, pages='all', multiple_tables=True)[7]\n",
    "df_bev_raw = df_bev_raw.drop(0).reset_index(drop=True)\n",
    "df_bev_raw.columns = ['Gemeinde', 'Total Einwohner', 'Schweizerinnen und Schweizer', 'Ausländerinnen und Ausländer', '0 – 19 Jahre', '20 – 64 Jahre', '65 – 79 Jahre', 'über 80 Jahre']\n",
    "# Liste der Spalten, die bearbeitet werden sollen\n",
    "columns_to_process = ['Total Einwohner', 'Schweizerinnen und Schweizer', 'Ausländerinnen und Ausländer', '0 – 19 Jahre', '20 – 64 Jahre', '65 – 79 Jahre', 'über 80 Jahre']\n",
    "# Iteriere über die ausgewählten Spalten und führe die Operationen durch\n",
    "for column in columns_to_process:\n",
    "    try:\n",
    "        df_bev_raw[column] = pd.to_numeric(df_bev_raw[column].str.replace('\\'', ''), errors='raise')\n",
    "    except ValueError as e:\n",
    "        print(f\"Error converting column '{column}': {e}\")\n",
    "        \n",
    "df_bev_raw = df_bev_raw.fillna(0)"
   ]
  },
  {
   "cell_type": "code",
   "execution_count": 169,
   "metadata": {},
   "outputs": [],
   "source": [
    "# Zusammenführen der Gemeindenamen Daten und der Altersstatistik von Schauffhausen\n",
    "df_main = pd.merge(df_parts, df_bev_raw, on='Gemeinde', how='inner')\n",
    "df_main['Fläche pro Einwohner (km²)'] = df_main['Fläche (km²)'] / df_main['Total Einwohner']\n",
    "df_main = df_main.iloc[:, [0,10,3,6,7,8,9]]"
   ]
  },
  {
   "cell_type": "code",
   "execution_count": 170,
   "metadata": {},
   "outputs": [
    {
     "data": {
      "text/html": [
       "<div>\n",
       "<style scoped>\n",
       "    .dataframe tbody tr th:only-of-type {\n",
       "        vertical-align: middle;\n",
       "    }\n",
       "\n",
       "    .dataframe tbody tr th {\n",
       "        vertical-align: top;\n",
       "    }\n",
       "\n",
       "    .dataframe thead th {\n",
       "        text-align: right;\n",
       "    }\n",
       "</style>\n",
       "<table border=\"1\" class=\"dataframe\">\n",
       "  <thead>\n",
       "    <tr style=\"text-align: right;\">\n",
       "      <th></th>\n",
       "      <th>Gemeinde</th>\n",
       "      <th>Punkte Altersverteilung</th>\n",
       "    </tr>\n",
       "  </thead>\n",
       "  <tbody>\n",
       "    <tr>\n",
       "      <th>0</th>\n",
       "      <td>Bargen</td>\n",
       "      <td>65.466238</td>\n",
       "    </tr>\n",
       "    <tr>\n",
       "      <th>22</th>\n",
       "      <td>Stetten</td>\n",
       "      <td>55.857288</td>\n",
       "    </tr>\n",
       "    <tr>\n",
       "      <th>16</th>\n",
       "      <td>Ramsen</td>\n",
       "      <td>54.795694</td>\n",
       "    </tr>\n",
       "    <tr>\n",
       "      <th>9</th>\n",
       "      <td>Hemishofen</td>\n",
       "      <td>50.355522</td>\n",
       "    </tr>\n",
       "    <tr>\n",
       "      <th>2</th>\n",
       "      <td>Beringen</td>\n",
       "      <td>50.020022</td>\n",
       "    </tr>\n",
       "  </tbody>\n",
       "</table>\n",
       "</div>"
      ],
      "text/plain": [
       "      Gemeinde  Punkte Altersverteilung\n",
       "0       Bargen                65.466238\n",
       "22     Stetten                55.857288\n",
       "16      Ramsen                54.795694\n",
       "9   Hemishofen                50.355522\n",
       "2     Beringen                50.020022"
      ]
     },
     "execution_count": 170,
     "metadata": {},
     "output_type": "execute_result"
    }
   ],
   "source": [
    "# Berechne die prozentuale Verteilung pro Gemeinde und Altersgruppe zu der Gesamt Einwohnerzahl pro Gemeinde\n",
    "df_main_calc = df_main.copy().iloc[:, [0]]\n",
    "df_main_calc['0 – 19 Jahre'] = df_main['0 – 19 Jahre'] / df_main['Total Einwohner'] * 100\n",
    "df_main_calc['20 – 64 Jahre'] = df_main['20 – 64 Jahre'] / df_main['Total Einwohner'] * 100\n",
    "df_main_calc['65 – 79 Jahre'] = df_main['65 – 79 Jahre'] / df_main['Total Einwohner'] * 100\n",
    "df_main_calc['über 80 Jahre'] = df_main['über 80 Jahre'] / df_main['Total Einwohner'] * 100\n",
    "\n",
    "for col in df_main_calc.columns[1:5]:\n",
    "    min_value = df_main_calc[col].min()\n",
    "    max_value = df_main_calc[col].max()\n",
    "    df_main_calc[f'Normalized {col}'] = ((df_main_calc[col] - min_value) / (max_value - min_value)) * 100\n",
    "\n",
    "# Berechne die Anzahl Punkte pro Gemeinde mit der Gewichtung 0-19 Jahre = 30%, 20-64 Jahre = 60%, 65-79 Jahre = 10%, über 80 Jahre = 0%\n",
    "df_main_calc['Punkte Altersverteilung'] = df_main_calc['Normalized 0 – 19 Jahre'] * 0.3 + df_main_calc['Normalized 20 – 64 Jahre'] * 0.6 + df_main_calc['Normalized 65 – 79 Jahre'] * 0.1 + df_main_calc['Normalized über 80 Jahre'] * 0.0\n",
    "df_main_final = df_main_calc.copy().iloc[:, [0,9]]\n",
    "df_main_final = df_main_final.sort_values(by='Punkte Altersverteilung', ascending=False)\n",
    "\n",
    "# Ausgabe der TOP 5 Gemeinden der Altersstatistik\n",
    "df_main_final.head()"
   ]
  },
  {
   "cell_type": "markdown",
   "metadata": {},
   "source": [
    "### Weinstatistiken pro Gemeinde\n",
    "Die Weinstatistik zeigt auf, welche Gemeinden die grösste Anbaufläche der Rebsorten Blauburgunder (Pinot noir), Chardonnay und Sauvignon blanc aufweisen. Es wird dann die Annahme getätigt, dass die Gemeinde mit den grössten Anbauflächen der Weine auch gleichzeitige diese sind mit dem grössten Konsum dieser Weine.\n",
    "\n",
    "*Quellen*:\n",
    "- https://sh.ch/CMS/get/file/bb067876-9c87-4df5-afa0-26bb3ba428b1, Seite 11, Jahr 2022: Laden der Rebsorten Anbauflächen pro Gemeinde"
   ]
  },
  {
   "cell_type": "code",
   "execution_count": 171,
   "metadata": {},
   "outputs": [
    {
     "name": "stderr",
     "output_type": "stream",
     "text": [
      "/Library/Frameworks/Python.framework/Versions/3.11/lib/python3.11/site-packages/tabula/io.py:1045: FutureWarning: errors='ignore' is deprecated and will raise in a future version. Use to_numeric without passing `errors` and catch exceptions explicitly instead\n",
      "  df[c] = pd.to_numeric(df[c], errors=\"ignore\")\n"
     ]
    }
   ],
   "source": [
    "# Pfadeingabe zum PDF\n",
    "pdf_path = \"data/Rebbericht_2022_SH_TG_def_2.pdf\"\n",
    "\n",
    "# Lese das PDF in ein Pandas DataFrame ein\n",
    "df_wein_raw = tabula.read_pdf(pdf_path, pages='all', multiple_tables=True)[2]\n",
    "\n",
    "# Erzeuge ein DataFrame mit den benötigten Spalten\n",
    "df_wein = df_wein_raw.iloc[:, [0,1,3,9]]\n",
    "df_wein.columns = ['Gemeinde', 'Blauburgunder Fläche', 'Chardonnay Fläche', 'Sauvignon blanc Fläche']\n",
    "\n",
    "# Lösche die erste, letzte und leere Zeilen\n",
    "df_wein = df_wein.drop(0).reset_index(drop=True)\n",
    "df_wein = df_wein.drop(len(df_wein)-1).reset_index(drop=True)\n",
    "df_wein = df_wein.dropna(subset=['Gemeinde']).reset_index(drop=True)\n",
    "\n",
    "df_wein['Gemeinde'] = df_wein['Gemeinde'].str.replace(\" (SH)\", '')\n",
    "\n",
    "# Liste der Spalten, die bearbeitet werden sollen\n",
    "columns_to_process = ['Blauburgunder Fläche', 'Chardonnay Fläche', 'Sauvignon blanc Fläche']\n",
    "# Iteriere über die ausgewählten Spalten und führe die Operationen durch\n",
    "for column in columns_to_process:\n",
    "    try:\n",
    "        df_wein[column] = pd.to_numeric(df_wein[column].str.replace('\\'', ''), errors='raise')\n",
    "    except ValueError as e:\n",
    "        print(f\"Error converting column '{column}': {e}\")\n",
    "        \n",
    "df_wein = df_wein.fillna(0) # Setze 0.0 bei allen undefinierten Werten."
   ]
  },
  {
   "cell_type": "code",
   "execution_count": 172,
   "metadata": {},
   "outputs": [
    {
     "data": {
      "text/html": [
       "<div>\n",
       "<style scoped>\n",
       "    .dataframe tbody tr th:only-of-type {\n",
       "        vertical-align: middle;\n",
       "    }\n",
       "\n",
       "    .dataframe tbody tr th {\n",
       "        vertical-align: top;\n",
       "    }\n",
       "\n",
       "    .dataframe thead th {\n",
       "        text-align: right;\n",
       "    }\n",
       "</style>\n",
       "<table border=\"1\" class=\"dataframe\">\n",
       "  <thead>\n",
       "    <tr style=\"text-align: right;\">\n",
       "      <th></th>\n",
       "      <th>Gemeinde</th>\n",
       "      <th>Punkte Wein</th>\n",
       "    </tr>\n",
       "  </thead>\n",
       "  <tbody>\n",
       "    <tr>\n",
       "      <th>8</th>\n",
       "      <td>Hallau</td>\n",
       "      <td>100.000000</td>\n",
       "    </tr>\n",
       "    <tr>\n",
       "      <th>25</th>\n",
       "      <td>Wilchingen</td>\n",
       "      <td>43.410649</td>\n",
       "    </tr>\n",
       "    <tr>\n",
       "      <th>15</th>\n",
       "      <td>Oberhallau</td>\n",
       "      <td>30.822208</td>\n",
       "    </tr>\n",
       "    <tr>\n",
       "      <th>24</th>\n",
       "      <td>Trasadingen</td>\n",
       "      <td>17.899844</td>\n",
       "    </tr>\n",
       "    <tr>\n",
       "      <th>21</th>\n",
       "      <td>Stein am Rhein</td>\n",
       "      <td>16.139949</td>\n",
       "    </tr>\n",
       "  </tbody>\n",
       "</table>\n",
       "</div>"
      ],
      "text/plain": [
       "          Gemeinde  Punkte Wein\n",
       "8           Hallau   100.000000\n",
       "25      Wilchingen    43.410649\n",
       "15      Oberhallau    30.822208\n",
       "24     Trasadingen    17.899844\n",
       "21  Stein am Rhein    16.139949"
      ]
     },
     "execution_count": 172,
     "metadata": {},
     "output_type": "execute_result"
    }
   ],
   "source": [
    "df_wein_calc = df_wein.copy().iloc[:, [0]]\n",
    "\n",
    "for col in df_wein.columns[1:4]:\n",
    "    min_value = df_wein[col].min()\n",
    "    max_value = df_wein[col].max()\n",
    "    df_wein_calc[f'Normalized {col}'] = ((df_wein[col] - min_value) / (max_value - min_value)) * 100\n",
    "\n",
    "# Berechne die Anzahl Punkte pro Gemeinde mit der Gewichtung Blauburgunder = 50%, Chardonnay Jahre = 10% und Sauvignon blanc = 40%\n",
    "df_wein_calc['Punkte Wein'] = df_wein_calc['Normalized Blauburgunder Fläche'] * 0.5 + df_wein_calc['Normalized Chardonnay Fläche'] * 0.1 + df_wein_calc['Normalized Sauvignon blanc Fläche'] * 0.4\n",
    "\n",
    "# Zusammenführen der Gemeindenamen Daten und der Weinstatistik von Schauffhausen\n",
    "df_wein_final = pd.merge(df_wein_calc, df_main, on='Gemeinde', how='right').iloc[:, [0,4]]\n",
    "df_wein_final = df_wein_final.fillna(0)\n",
    "df_wein_final = df_wein_final.sort_values(by='Punkte Wein', ascending=False)\n",
    "\n",
    "# Ausgabe der TOP 5 Gemeinden der Weinstatistik\n",
    "df_wein_final.head()"
   ]
  },
  {
   "cell_type": "markdown",
   "metadata": {},
   "source": [
    "### Bildungslast Statistik pro Gemeinde\n",
    "\n",
    "Die Bildungslast zeigt auf, welche Gemeinden die höchste Bildungslast in Franken pro Einwohner aufweist. Dabei werden die Jahre 2016, 2014 und 2012 verglichen. Je höher die Bildungslast ist, desto besser unter der Annahme, dass die Einwohner der Gemeinde mit der höchsten Last auch die am meisten gebildeten sind. \n",
    "\n",
    "*Quellen*:\n",
    "- https://sh.ch/CMS/get/file/988d765c-07c2-4983-9eca-cdee5c06fa57, Jahr 2017: Laden der Bildungslast in Franken / Einwohner pro Gemeinde. "
   ]
  },
  {
   "cell_type": "code",
   "execution_count": 173,
   "metadata": {},
   "outputs": [],
   "source": [
    "excel_path = \"data/Bildungslast 7.12.xls\"\n",
    "\n",
    "sheet_name = \"7.12\"\n",
    "start_row = 8\n",
    "end_row = 42\n",
    "\n",
    "# Lese den definierten Bereich in das DataFrame\n",
    "df_bildung_raw = pd.read_excel(excel_path, sheet_name=sheet_name, skiprows=range(1, start_row))\n",
    "\n",
    "# Lade ausschliesslich die benötigten Spalten\n",
    "df_bildung_raw = df_bildung_raw.iloc[0:end_row-start_row]\n",
    "df_bildung = df_bildung_raw.iloc[:, [0,10,12,14]]\n",
    "df_bildung.columns = ['Gemeinde', '2012 pro Einwohner (CHF)', '2014 pro Einwohner (CHF)', '2016 pro Einwohner (CHF)']\n",
    "\n",
    "# Entferne Zeilen, welche keine Einträge aufweisen im Jahr 2016\n",
    "df_bildung = df_bildung.dropna(subset=['2016 pro Einwohner (CHF)']).reset_index(drop=True)"
   ]
  },
  {
   "cell_type": "code",
   "execution_count": 174,
   "metadata": {},
   "outputs": [
    {
     "ename": "KeyError",
     "evalue": "\"None of ['Gemeinde'] are in the columns\"",
     "output_type": "error",
     "traceback": [
      "\u001b[0;31m---------------------------------------------------------------------------\u001b[0m",
      "\u001b[0;31mKeyError\u001b[0m                                  Traceback (most recent call last)",
      "\u001b[0;32m/var/folders/xy/0br9tjv92ygfx1xdz070c1l40000gn/T/ipykernel_21190/835691050.py\u001b[0m in \u001b[0;36m?\u001b[0;34m()\u001b[0m\n\u001b[1;32m      1\u001b[0m \u001b[0;31m# Transponiere das DataFrame, um die Jahre als Index zu haben\u001b[0m\u001b[0;34m\u001b[0m\u001b[0;34m\u001b[0m\u001b[0m\n\u001b[1;32m      2\u001b[0m \u001b[0mdf_bildung\u001b[0m\u001b[0;34m.\u001b[0m\u001b[0mset_index\u001b[0m\u001b[0;34m(\u001b[0m\u001b[0;34m'Gemeinde'\u001b[0m\u001b[0;34m,\u001b[0m \u001b[0minplace\u001b[0m\u001b[0;34m=\u001b[0m\u001b[0;32mFalse\u001b[0m\u001b[0;34m)\u001b[0m\u001b[0;34m\u001b[0m\u001b[0;34m\u001b[0m\u001b[0m\n\u001b[1;32m      3\u001b[0m \u001b[0;31m# df_bildung_transposed = df_bildung.head().T\u001b[0m\u001b[0;34m\u001b[0m\u001b[0;34m\u001b[0m\u001b[0m\n\u001b[1;32m      4\u001b[0m \u001b[0mdf_bildung_transposed\u001b[0m \u001b[0;34m=\u001b[0m \u001b[0mdf_bildung\u001b[0m\u001b[0;34m.\u001b[0m\u001b[0mhead\u001b[0m\u001b[0;34m(\u001b[0m\u001b[0;34m)\u001b[0m\u001b[0;34m.\u001b[0m\u001b[0mT\u001b[0m\u001b[0;34m\u001b[0m\u001b[0;34m\u001b[0m\u001b[0m\n\u001b[0;32m----> 5\u001b[0;31m \u001b[0mdf_bildung_transposed\u001b[0m\u001b[0;34m.\u001b[0m\u001b[0mset_index\u001b[0m\u001b[0;34m(\u001b[0m\u001b[0;34m'Gemeinde'\u001b[0m\u001b[0;34m,\u001b[0m \u001b[0minplace\u001b[0m\u001b[0;34m=\u001b[0m\u001b[0;32mFalse\u001b[0m\u001b[0;34m)\u001b[0m\u001b[0;34m\u001b[0m\u001b[0;34m\u001b[0m\u001b[0m\n\u001b[0m\u001b[1;32m      6\u001b[0m \u001b[0;34m\u001b[0m\u001b[0m\n\u001b[1;32m      7\u001b[0m \u001b[0;31m# Plot des Liniendiagramms\u001b[0m\u001b[0;34m\u001b[0m\u001b[0;34m\u001b[0m\u001b[0m\n\u001b[1;32m      8\u001b[0m \u001b[0;31m#plt.rcParams['figure.figsize'] = [10, 6]\u001b[0m\u001b[0;34m\u001b[0m\u001b[0;34m\u001b[0m\u001b[0m\n",
      "\u001b[0;32m/Library/Frameworks/Python.framework/Versions/3.11/lib/python3.11/site-packages/pandas/core/frame.py\u001b[0m in \u001b[0;36m?\u001b[0;34m(self, keys, drop, append, inplace, verify_integrity)\u001b[0m\n\u001b[1;32m   6102\u001b[0m                     \u001b[0;32mif\u001b[0m \u001b[0;32mnot\u001b[0m \u001b[0mfound\u001b[0m\u001b[0;34m:\u001b[0m\u001b[0;34m\u001b[0m\u001b[0;34m\u001b[0m\u001b[0m\n\u001b[1;32m   6103\u001b[0m                         \u001b[0mmissing\u001b[0m\u001b[0;34m.\u001b[0m\u001b[0mappend\u001b[0m\u001b[0;34m(\u001b[0m\u001b[0mcol\u001b[0m\u001b[0;34m)\u001b[0m\u001b[0;34m\u001b[0m\u001b[0;34m\u001b[0m\u001b[0m\n\u001b[1;32m   6104\u001b[0m \u001b[0;34m\u001b[0m\u001b[0m\n\u001b[1;32m   6105\u001b[0m         \u001b[0;32mif\u001b[0m \u001b[0mmissing\u001b[0m\u001b[0;34m:\u001b[0m\u001b[0;34m\u001b[0m\u001b[0;34m\u001b[0m\u001b[0m\n\u001b[0;32m-> 6106\u001b[0;31m             \u001b[0;32mraise\u001b[0m \u001b[0mKeyError\u001b[0m\u001b[0;34m(\u001b[0m\u001b[0;34mf\"None of {missing} are in the columns\"\u001b[0m\u001b[0;34m)\u001b[0m\u001b[0;34m\u001b[0m\u001b[0;34m\u001b[0m\u001b[0m\n\u001b[0m\u001b[1;32m   6107\u001b[0m \u001b[0;34m\u001b[0m\u001b[0m\n\u001b[1;32m   6108\u001b[0m         \u001b[0;32mif\u001b[0m \u001b[0minplace\u001b[0m\u001b[0;34m:\u001b[0m\u001b[0;34m\u001b[0m\u001b[0;34m\u001b[0m\u001b[0m\n\u001b[1;32m   6109\u001b[0m             \u001b[0mframe\u001b[0m \u001b[0;34m=\u001b[0m \u001b[0mself\u001b[0m\u001b[0;34m\u001b[0m\u001b[0;34m\u001b[0m\u001b[0m\n",
      "\u001b[0;31mKeyError\u001b[0m: \"None of ['Gemeinde'] are in the columns\""
     ]
    }
   ],
   "source": [
    "# Transponiere das DataFrame, um die Jahre als Index zu haben\n",
    "df_bildung.set_index('Gemeinde', inplace=False)\n",
    "# df_bildung_transposed = df_bildung.head().T\n",
    "df_bildung_transposed = df_bildung.head().T\n",
    "df_bildung_transposed.set_index('Gemeinde', inplace=False)\n",
    "\n",
    "# Plot des Liniendiagramms\n",
    "#plt.rcParams['figure.figsize'] = [10, 6]\n",
    "#df_bildung_transposed.plot(marker='o')\n",
    "#plt.ylabel('Betrag pro Einwohner (CHF)')\n",
    "#plt.xlabel('Jahr')\n",
    "#plt.title('Bildungsausgaben pro Einwohner für die Jahre 2012, 2014 und 2016 nach Gemeinden')\n",
    "#plt.xticks(df_bildung_transposed.index, rotation=45)\n",
    "#plt.legend(title='Gemeinde')\n",
    "#plt.grid(True)\n",
    "#plt.show()\n",
    "df_bildung_transposed\n"
   ]
  },
  {
   "cell_type": "code",
   "execution_count": null,
   "metadata": {},
   "outputs": [
    {
     "data": {
      "text/html": [
       "<div>\n",
       "<style scoped>\n",
       "    .dataframe tbody tr th:only-of-type {\n",
       "        vertical-align: middle;\n",
       "    }\n",
       "\n",
       "    .dataframe tbody tr th {\n",
       "        vertical-align: top;\n",
       "    }\n",
       "\n",
       "    .dataframe thead th {\n",
       "        text-align: right;\n",
       "    }\n",
       "</style>\n",
       "<table border=\"1\" class=\"dataframe\">\n",
       "  <thead>\n",
       "    <tr style=\"text-align: right;\">\n",
       "      <th></th>\n",
       "      <th>Gemeinde</th>\n",
       "      <th>Punkte Bildung</th>\n",
       "    </tr>\n",
       "  </thead>\n",
       "  <tbody>\n",
       "    <tr>\n",
       "      <th>12</th>\n",
       "      <td>Merishausen</td>\n",
       "      <td>100.000000</td>\n",
       "    </tr>\n",
       "    <tr>\n",
       "      <th>22</th>\n",
       "      <td>Stetten</td>\n",
       "      <td>76.526590</td>\n",
       "    </tr>\n",
       "    <tr>\n",
       "      <th>25</th>\n",
       "      <td>Wilchingen</td>\n",
       "      <td>69.298586</td>\n",
       "    </tr>\n",
       "    <tr>\n",
       "      <th>15</th>\n",
       "      <td>Oberhallau</td>\n",
       "      <td>66.111210</td>\n",
       "    </tr>\n",
       "    <tr>\n",
       "      <th>1</th>\n",
       "      <td>Beggingen</td>\n",
       "      <td>65.452279</td>\n",
       "    </tr>\n",
       "  </tbody>\n",
       "</table>\n",
       "</div>"
      ],
      "text/plain": [
       "       Gemeinde  Punkte Bildung\n",
       "12  Merishausen      100.000000\n",
       "22      Stetten       76.526590\n",
       "25   Wilchingen       69.298586\n",
       "15   Oberhallau       66.111210\n",
       "1     Beggingen       65.452279"
      ]
     },
     "execution_count": 128,
     "metadata": {},
     "output_type": "execute_result"
    }
   ],
   "source": [
    "df_bildung_calc = df_bildung.copy().iloc[:, [0]]\n",
    "\n",
    "for col in df_bildung.columns[1:4]:\n",
    "    min_value = df_bildung[col].min()\n",
    "    max_value = df_bildung[col].max()\n",
    "    df_bildung_calc[f'Normalized {col}'] = ((df_bildung[col] - min_value) / (max_value - min_value)) * 100\n",
    "\n",
    "# Berechne die Anzahl Punkte pro Gemeinde mit der Gewichtung 2012 = 10%, 2014 = 30% und 2016 = 60%\n",
    "df_bildung_calc['Punkte Bildung'] = (df_bildung_calc['Normalized 2012 pro Einwohner (CHF)'] * 0.1 + df_bildung_calc['Normalized 2014 pro Einwohner (CHF)'] * 0.3 + df_bildung_calc['Normalized 2016 pro Einwohner (CHF)'] * 0.6)\n",
    "\n",
    "# Zusammenführen der Gemeindenamen Daten und der Weinstatistik von Schauffhausen\n",
    "df_bildung_final = pd.merge(df_bildung_calc, df_main, on='Gemeinde', how='right').iloc[:, [0,4]]\n",
    "df_bildung_final = df_bildung_final.fillna(0)\n",
    "df_bildung_final = df_bildung_final.sort_values(by='Punkte Bildung', ascending=False)\n",
    "\n",
    "# Ausgabe der TOP 5 Gemeinden der Weinstatistik\n",
    "df_bildung_final.head()"
   ]
  },
  {
   "cell_type": "markdown",
   "metadata": {},
   "source": [
    "### Gesamt Gewinner\n",
    "Gemeinde mit der besten Einwohnerverteilung, welche Wein trinken dürfen, der grössten Rebanbaufläche und zudem die teuerste Bildung geniesst pro Einwohner ist der Gewinner."
   ]
  },
  {
   "cell_type": "code",
   "execution_count": null,
   "metadata": {},
   "outputs": [],
   "source": [
    "# Zusammenführen der drei finalen DataFrames\n",
    "df_final = pd.merge(pd.merge(df_main_final, df_wein_final, on='Gemeinde', how='inner'), df_bildung_final, on='Gemeinde', how='inner')\n",
    "\n",
    "# Berechnung der Gesamtpunktzahl \n",
    "df_final['Punkte Gesamt'] = (df_final['Punkte Altersverteilung'] + df_final['Punkte Wein'] + df_final['Punkte Bildung']) / 3\n",
    "\n",
    "df_final = df_final.sort_values(by='Punkte Gesamt', ascending=False)"
   ]
  },
  {
   "cell_type": "code",
   "execution_count": null,
   "metadata": {},
   "outputs": [
    {
     "data": {
      "image/png": "[encoded data removed]",
      "text/plain": [
       "<Figure size 1000x600 with 1 Axes>"
      ]
     },
     "metadata": {},
     "output_type": "display_data"
    }
   ],
   "source": [
    "# Plot des Balkendiagramms\n",
    "plt.rcParams['figure.figsize'] = [10, 6]\n",
    "ax = df_final.head().iloc[:, :-1].plot(kind='bar',x='Gemeinde')\n",
    "ax.set_ylabel('Wert')\n",
    "ax.set_xlabel('Gemeinden')\n",
    "ax.set_title('Top 5 der Gemeinden in Schaffhausen')\n",
    "plt.xticks(rotation=45)\n",
    "plt.legend(title='Werte')\n",
    "\n",
    "# Zeige die Werte für jede Säule\n",
    "for i in ax.patches:\n",
    "    ax.text(i.get_x() + i.get_width() / 2, i.get_height() + 2, str(round(i.get_height(), 1)), ha='center', va='bottom')\n",
    "\n",
    "plt.show()"
   ]
  },
  {
   "cell_type": "markdown",
   "metadata": {},
   "source": [
    "Die obige Grafik zeigt die einzelnen Kategorien der Top 5 Gemeinden"
   ]
  },
  {
   "cell_type": "code",
   "execution_count": null,
   "metadata": {},
   "outputs": [
    {
     "data": {
      "image/png": "[encoded data removed]",
      "text/plain": [
       "<Figure size 500x500 with 1 Axes>"
      ]
     },
     "metadata": {},
     "output_type": "display_data"
    }
   ],
   "source": [
    "df_final_graph_min_value = df_final.head()['Punkte Gesamt'].min() * 0.95\n",
    "plt.rcParams['figure.figsize'] = [5, 5]\n",
    "colors = ['gold', 'silver', 'peru', 'lightblue', 'lightblue']\n",
    "df_final_graph = df_final.head().plot.bar(x='Gemeinde', y='Punkte Gesamt', color=colors, legend=False)\n",
    "df_final_graph.set_ylim(df_final_graph_min_value, None)\n",
    "for i, v in enumerate(df_final.head()['Punkte Gesamt']):\n",
    "    df_final_graph.text(i, v + 0.5, str(round(v, 1)), ha='center', va='bottom')\n",
    "plt.show()\n"
   ]
  }
 ],
 "metadata": {
  "kernelspec": {
   "display_name": "Python 3",
   "language": "python",
   "name": "python3"
  },
  "language_info": {
   "codemirror_mode": {
    "name": "ipython",
    "version": 3
   },
   "file_extension": ".py",
   "mimetype": "text/x-python",
   "name": "python",
   "nbconvert_exporter": "python",
   "pygments_lexer": "ipython3",
   "version": "3.11.8"
  }
 },
 "nbformat": 4,
 "nbformat_minor": 2
}
